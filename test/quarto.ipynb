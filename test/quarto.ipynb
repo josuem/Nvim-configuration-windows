{
 "cells": [
  {
   "cell_type": "raw",
   "id": "cbf9b876",
   "metadata": {},
   "source": [
    "---\n",
    "title: test\n",
    "author: josue\n",
    "---"
   ]
  },
  {
   "cell_type": "markdown",
   "id": "ea2fe526",
   "metadata": {},
   "source": [
    "# title\n",
    "\n",
    "$$\n",
    "∫_x^a xdx ⋅ α · \\frac{\\beta}{\\gamma}\n",
    "$$ {#eq-test}\n",
    "\n",
    "The @eq-test is a simple equation\n"
   ]
  },
  {
   "cell_type": "code",
   "execution_count": 1,
   "id": "942295ca",
   "metadata": {},
   "outputs": [
    {
     "name": "stdout",
     "output_type": "stream",
     "text": [
      "test\n"
     ]
    }
   ],
   "source": [
    "import matplotlib.pylab as plt\n",
    "\n",
    "print(\"test\")"
   ]
  }
 ],
 "metadata": {
  "kernelspec": {
   "display_name": "Python 3 (ipykernel)",
   "language": "python",
   "name": "python3"
  }
 },
 "nbformat": 4,
 "nbformat_minor": 5
}
